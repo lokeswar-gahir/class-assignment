{
 "cells": [
  {
   "cell_type": "markdown",
   "id": "ead62967",
   "metadata": {},
   "source": [
    "### Here are some errors :"
   ]
  },
  {
   "cell_type": "code",
   "execution_count": 1,
   "id": "2b936eb4",
   "metadata": {},
   "outputs": [
    {
     "ename": "TypeError",
     "evalue": "cannot unpack non-iterable int object",
     "output_type": "error",
     "traceback": [
      "\u001b[1;31m---------------------------------------------------------------------------\u001b[0m",
      "\u001b[1;31mTypeError\u001b[0m                                 Traceback (most recent call last)",
      "Input \u001b[1;32mIn [1]\u001b[0m, in \u001b[0;36m<cell line: 1>\u001b[1;34m()\u001b[0m\n\u001b[1;32m----> 1\u001b[0m a,b,c\u001b[38;5;241m=\u001b[39m\u001b[38;5;241m10\u001b[39m\n",
      "\u001b[1;31mTypeError\u001b[0m: cannot unpack non-iterable int object"
     ]
    }
   ],
   "source": [
    "a,b,c=10"
   ]
  },
  {
   "cell_type": "markdown",
   "id": "4dbe7977",
   "metadata": {},
   "source": [
    "Explaination : I got the above error because I was assining single value to three different variables."
   ]
  },
  {
   "cell_type": "code",
   "execution_count": 3,
   "id": "add91cb8",
   "metadata": {},
   "outputs": [
    {
     "name": "stdout",
     "output_type": "stream",
     "text": [
      "Enter your name : lokes\n",
      "Enter your year_of_birth : 2002\n",
      "Enter current year : 2022\n"
     ]
    },
    {
     "ename": "TypeError",
     "evalue": "unsupported operand type(s) for -: 'str' and 'str'",
     "output_type": "error",
     "traceback": [
      "\u001b[1;31m---------------------------------------------------------------------------\u001b[0m",
      "\u001b[1;31mTypeError\u001b[0m                                 Traceback (most recent call last)",
      "Input \u001b[1;32mIn [3]\u001b[0m, in \u001b[0;36m<cell line: 4>\u001b[1;34m()\u001b[0m\n\u001b[0;32m      2\u001b[0m year_of_birth \u001b[38;5;241m=\u001b[39m \u001b[38;5;28minput\u001b[39m(\u001b[38;5;124m\"\u001b[39m\u001b[38;5;124mEnter your year_of_birth : \u001b[39m\u001b[38;5;124m\"\u001b[39m)\n\u001b[0;32m      3\u001b[0m curr_year \u001b[38;5;241m=\u001b[39m \u001b[38;5;28minput\u001b[39m(\u001b[38;5;124m\"\u001b[39m\u001b[38;5;124mEnter current year : \u001b[39m\u001b[38;5;124m\"\u001b[39m)\n\u001b[1;32m----> 4\u001b[0m age \u001b[38;5;241m=\u001b[39m \u001b[43mcurr_year\u001b[49m\u001b[43m \u001b[49m\u001b[38;5;241;43m-\u001b[39;49m\u001b[43m \u001b[49m\u001b[43myear_of_birth\u001b[49m\n\u001b[0;32m      6\u001b[0m \u001b[38;5;28mprint\u001b[39m(\u001b[38;5;124mf\u001b[39m\u001b[38;5;124m'''\u001b[39m\u001b[38;5;130;01m\\n\u001b[39;00m\u001b[38;5;124mMy name is \u001b[39m\u001b[38;5;132;01m{\u001b[39;00mname\u001b[38;5;132;01m}\u001b[39;00m\n\u001b[0;32m      7\u001b[0m \u001b[38;5;124mI am of age \u001b[39m\u001b[38;5;132;01m{\u001b[39;00mage\u001b[38;5;132;01m}\u001b[39;00m\u001b[38;5;124m'''\u001b[39m)\n",
      "\u001b[1;31mTypeError\u001b[0m: unsupported operand type(s) for -: 'str' and 'str'"
     ]
    }
   ],
   "source": [
    "name = input(\"Enter your name : \")\n",
    "year_of_birth = input(\"Enter your year_of_birth : \")\n",
    "curr_year = input(\"Enter current year : \")\n",
    "age = curr_year - year_of_birth\n",
    "\n",
    "print(f'''\\nMy name is {name}\n",
    "I am of age {age}''')"
   ]
  },
  {
   "cell_type": "markdown",
   "id": "a32df8be",
   "metadata": {},
   "source": [
    "Explaination : I did not type casted string values to integer."
   ]
  },
  {
   "cell_type": "code",
   "execution_count": 4,
   "id": "c6e045bb",
   "metadata": {},
   "outputs": [
    {
     "ename": "ValueError",
     "evalue": "invalid literal for int() with base 10: '20.3'",
     "output_type": "error",
     "traceback": [
      "\u001b[1;31m---------------------------------------------------------------------------\u001b[0m",
      "\u001b[1;31mValueError\u001b[0m                                Traceback (most recent call last)",
      "Input \u001b[1;32mIn [4]\u001b[0m, in \u001b[0;36m<cell line: 2>\u001b[1;34m()\u001b[0m\n\u001b[0;32m      1\u001b[0m st \u001b[38;5;241m=\u001b[39m \u001b[38;5;124m\"\u001b[39m\u001b[38;5;124m20.3\u001b[39m\u001b[38;5;124m\"\u001b[39m\n\u001b[1;32m----> 2\u001b[0m \u001b[38;5;28;43mint\u001b[39;49m\u001b[43m(\u001b[49m\u001b[43mst\u001b[49m\u001b[43m)\u001b[49m\n",
      "\u001b[1;31mValueError\u001b[0m: invalid literal for int() with base 10: '20.3'"
     ]
    }
   ],
   "source": [
    "st = \"20.3\"\n",
    "int(st)"
   ]
  },
  {
   "cell_type": "markdown",
   "id": "408e23ca",
   "metadata": {},
   "source": [
    "Explaination : decimal numbers which are in string format cannot converted to integer."
   ]
  },
  {
   "cell_type": "markdown",
   "id": "c928bb33",
   "metadata": {},
   "source": [
    "### 2. Take input A and B and print their sum, mul, div, square of the nos."
   ]
  },
  {
   "cell_type": "code",
   "execution_count": 7,
   "id": "43e7f5cc",
   "metadata": {},
   "outputs": [
    {
     "name": "stdout",
     "output_type": "stream",
     "text": [
      "Enter the value for A : 40\n",
      "Enter the value for B : 5\n",
      "\n",
      "Addition : 45\n",
      "Multiplication : 200\n",
      "Division : 8.0\n",
      "square(a^b) : 102400000\n",
      "\n"
     ]
    }
   ],
   "source": [
    "a = int(input(\"Enter the value for A : \"))\n",
    "b = int(input(\"Enter the value for B : \"))\n",
    "\n",
    "print(f'''\\nAddition : {a+b}\n",
    "Multiplication : {a*b}\n",
    "Division : {a/b}\n",
    "square(a^b) : {a**b}\n",
    "''')"
   ]
  },
  {
   "cell_type": "markdown",
   "id": "dfe1db04",
   "metadata": {},
   "source": [
    "### 3. How many reserve keywords are there in python and why we should not use them as a variable name."
   ]
  },
  {
   "cell_type": "markdown",
   "id": "ecb1ff03",
   "metadata": {},
   "source": [
    "There are 30 reserved keywords.<br>\n",
    "If we use them as variable at the time of actual use they will raise unnecessary exception."
   ]
  },
  {
   "cell_type": "markdown",
   "id": "ce099ae7",
   "metadata": {},
   "source": [
    "### 4. Create email ids with the user inputs. in the following format - lastname.firstname@gmail.com"
   ]
  },
  {
   "cell_type": "code",
   "execution_count": 18,
   "id": "c84ff1a0",
   "metadata": {},
   "outputs": [
    {
     "name": "stdout",
     "output_type": "stream",
     "text": [
      "Enter your first name : lokeswar\n",
      "Enter your last name : gahir\n",
      "\n",
      "Your email id is : gahir.lokeswar@gmail.com\n"
     ]
    }
   ],
   "source": [
    "f_name = input(\"Enter your first name : \")\n",
    "l_name = input(\"Enter your last name : \")\n",
    "\n",
    "print(f'\\nYour email id is : {l_name +\".\"+ f_name}@gmail.com')"
   ]
  },
  {
   "cell_type": "markdown",
   "id": "c9ecae04",
   "metadata": {},
   "source": [
    "### Question no. 5"
   ]
  },
  {
   "cell_type": "code",
   "execution_count": 19,
   "id": "08a3c787",
   "metadata": {},
   "outputs": [
    {
     "name": "stdout",
     "output_type": "stream",
     "text": [
      "Hi I'm Sunny\n",
      "My address is 22\\3\n",
      "I earn 20$ daily.\n"
     ]
    }
   ],
   "source": [
    "print(\"Hi I'm Sunny\")\n",
    "print(\"My address is 22\\\\3\")\n",
    "print(\"I earn 20$ daily.\")"
   ]
  },
  {
   "cell_type": "markdown",
   "id": "21a17b99",
   "metadata": {},
   "source": [
    "### Question no. 6"
   ]
  },
  {
   "cell_type": "code",
   "execution_count": 24,
   "id": "f4e9ddee",
   "metadata": {},
   "outputs": [
    {
     "name": "stdout",
     "output_type": "stream",
     "text": [
      "Enter name : lokeswar\n",
      "Enter address : India\n",
      "Enter your date of birth : 2002\n",
      "\n",
      "Name - lokeswar\n",
      "address - India\n",
      "Date of birth - 2002\n",
      "Email - lokeswar02@iNeuron.ai\n",
      "\n"
     ]
    }
   ],
   "source": [
    "name = input(\"Enter name : \")\n",
    "address = input(\"Enter address : \")\n",
    "date_of_birth = input(\"Enter your date of birth : \")\n",
    "print(f'''\n",
    "Name - {name}\n",
    "address - {address}\n",
    "Date of birth - {date_of_birth}\n",
    "Email - {name+date_of_birth[-2:]}@iNeuron.ai\n",
    "''')"
   ]
  },
  {
   "cell_type": "markdown",
   "id": "1fbeaaa7",
   "metadata": {},
   "source": [
    "### Question no. 7\n",
    "- \"22.4\" into integer\n",
    "- \"22\" into complex no."
   ]
  },
  {
   "cell_type": "code",
   "execution_count": 28,
   "id": "d12ad1b4",
   "metadata": {},
   "outputs": [
    {
     "data": {
      "text/plain": [
       "22"
      ]
     },
     "execution_count": 28,
     "metadata": {},
     "output_type": "execute_result"
    }
   ],
   "source": [
    "st = \"22.4\"\n",
    "f = float(st)\n",
    "int(f)"
   ]
  },
  {
   "cell_type": "code",
   "execution_count": 29,
   "id": "5403ee39",
   "metadata": {},
   "outputs": [
    {
     "data": {
      "text/plain": [
       "(22+0j)"
      ]
     },
     "execution_count": 29,
     "metadata": {},
     "output_type": "execute_result"
    }
   ],
   "source": [
    "st2 = \"22\"\n",
    "complex(st2)"
   ]
  }
 ],
 "metadata": {
  "kernelspec": {
   "display_name": "Python 3 (ipykernel)",
   "language": "python",
   "name": "python3"
  },
  "language_info": {
   "codemirror_mode": {
    "name": "ipython",
    "version": 3
   },
   "file_extension": ".py",
   "mimetype": "text/x-python",
   "name": "python",
   "nbconvert_exporter": "python",
   "pygments_lexer": "ipython3",
   "version": "3.10.6"
  }
 },
 "nbformat": 4,
 "nbformat_minor": 5
}
