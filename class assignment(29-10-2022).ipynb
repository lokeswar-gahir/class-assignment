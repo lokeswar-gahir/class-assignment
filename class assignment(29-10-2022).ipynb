{
 "cells": [
  {
   "cell_type": "markdown",
   "id": "b90db903",
   "metadata": {},
   "source": [
    "### 1. write a function which will try to find out len of a string without using an inbuilt len function "
   ]
  },
  {
   "cell_type": "code",
   "execution_count": 1,
   "id": "f4c9ae6c",
   "metadata": {},
   "outputs": [],
   "source": [
    "def length_of_str(string):\n",
    "    counter=0\n",
    "    for _ in string:\n",
    "        counter += 1\n",
    "    return counter"
   ]
  },
  {
   "cell_type": "code",
   "execution_count": 2,
   "id": "42f615de",
   "metadata": {},
   "outputs": [
    {
     "data": {
      "text/plain": [
       "4"
      ]
     },
     "execution_count": 2,
     "metadata": {},
     "output_type": "execute_result"
    }
   ],
   "source": [
    "length_of_str(\"fsds\")"
   ]
  },
  {
   "cell_type": "markdown",
   "id": "33b9c69a",
   "metadata": {},
   "source": [
    "### 2. write a function which  will be able to print an index of list element without using an index function"
   ]
  },
  {
   "cell_type": "code",
   "execution_count": 3,
   "id": "d6ff25df",
   "metadata": {},
   "outputs": [],
   "source": [
    "def index_in_str(string, index):\n",
    "    for i,char in enumerate(string):\n",
    "        if char == index:\n",
    "            return i"
   ]
  },
  {
   "cell_type": "code",
   "execution_count": 4,
   "id": "c5e61ac5",
   "metadata": {},
   "outputs": [
    {
     "data": {
      "text/plain": [
       "4"
      ]
     },
     "execution_count": 4,
     "metadata": {},
     "output_type": "execute_result"
    }
   ],
   "source": [
    "index_in_str(\"hello there\", \"o\")"
   ]
  },
  {
   "cell_type": "markdown",
   "id": "c8780efd",
   "metadata": {},
   "source": [
    "### 3. write a function which will be able to print an ip address of your system"
   ]
  },
  {
   "cell_type": "code",
   "execution_count": 7,
   "id": "b4729485",
   "metadata": {},
   "outputs": [],
   "source": [
    "def get_ip_address():\n",
    "    import socket\n",
    "    return socket.gethostbyname(socket.gethostname())"
   ]
  },
  {
   "cell_type": "code",
   "execution_count": 8,
   "id": "bfe3595a",
   "metadata": {},
   "outputs": [
    {
     "data": {
      "text/plain": [
       "'192.168.43.208'"
      ]
     },
     "execution_count": 8,
     "metadata": {},
     "output_type": "execute_result"
    }
   ],
   "source": [
    "get_ip_address()"
   ]
  },
  {
   "cell_type": "markdown",
   "id": "4d2202bb",
   "metadata": {},
   "source": [
    "### 4. write a function which will shutdown your system"
   ]
  },
  {
   "cell_type": "code",
   "execution_count": 9,
   "id": "43c7fa45",
   "metadata": {},
   "outputs": [],
   "source": [
    "# def shutdown():\n",
    "#     os.system(\"shutdown /s /t 1\")"
   ]
  },
  {
   "cell_type": "markdown",
   "id": "af1e66f9",
   "metadata": {},
   "source": [
    "### 5. write a function which will take input as a list with any kind of numeric value and give an out as a multiplication of  all the numeric data l = [3.5, 6.56, 4,5,\"sudh\" , \"ineuron\" , 'fsda bootcamp 2.0']"
   ]
  },
  {
   "cell_type": "code",
   "execution_count": 10,
   "id": "5af61457",
   "metadata": {},
   "outputs": [],
   "source": [
    "def num_multiplication(lst):\n",
    "    result = 1\n",
    "    for item in lst:\n",
    "        if type(item) == int or type(item) == float:\n",
    "            result *= item\n",
    "    return result"
   ]
  },
  {
   "cell_type": "code",
   "execution_count": 11,
   "id": "e26423a5",
   "metadata": {},
   "outputs": [
    {
     "data": {
      "text/plain": [
       "459.19999999999993"
      ]
     },
     "execution_count": 11,
     "metadata": {},
     "output_type": "execute_result"
    }
   ],
   "source": [
    "l = [3.5, 6.56, 4,5,\"sudh\" , \"ineuron\" , 'fsda bootcamp 2.0']\n",
    "num_multiplication(l)"
   ]
  },
  {
   "cell_type": "markdown",
   "id": "d8cd4d76",
   "metadata": {},
   "source": [
    "### 8. write a function which will be able to read a doc/word file from your system "
   ]
  },
  {
   "cell_type": "code",
   "execution_count": 17,
   "id": "b2ca2353",
   "metadata": {},
   "outputs": [],
   "source": [
    "def read_word(file):\n",
    "    import docx\n",
    "    f = docx.Document(file)\n",
    "    for para in f.paragraphs:\n",
    "        print(para.text)"
   ]
  },
  {
   "cell_type": "code",
   "execution_count": 18,
   "id": "1fa42f93",
   "metadata": {},
   "outputs": [
    {
     "name": "stdout",
     "output_type": "stream",
     "text": [
      "This is a testing word file.\n",
      "Thank you.\n"
     ]
    }
   ],
   "source": [
    "read_word(\"testing.docx\")"
   ]
  }
 ],
 "metadata": {
  "kernelspec": {
   "display_name": "Python 3 (ipykernel)",
   "language": "python",
   "name": "python3"
  },
  "language_info": {
   "codemirror_mode": {
    "name": "ipython",
    "version": 3
   },
   "file_extension": ".py",
   "mimetype": "text/x-python",
   "name": "python",
   "nbconvert_exporter": "python",
   "pygments_lexer": "ipython3",
   "version": "3.10.6"
  }
 },
 "nbformat": 4,
 "nbformat_minor": 5
}
